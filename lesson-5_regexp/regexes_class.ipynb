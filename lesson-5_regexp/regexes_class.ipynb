{
 "cells": [
  {
   "cell_type": "markdown",
   "metadata": {
    "colab_type": "text",
    "id": "jodqgEHypY9h"
   },
   "source": [
    "## логика регулярных выржений и зачем они нужны"
   ]
  },
  {
   "cell_type": "markdown",
   "metadata": {
    "colab_type": "text",
    "id": "3WzefC6ZGUri"
   },
   "source": [
    "регулярное выражение — это последовательность символов, используемая для поиска и(или) замены некоторого паттерна в строке (тексте или файле) \n",
    "\n",
    "регулярные выражения хороши, когда нам нужно вытащить из текста *повторяющийся паттерн*: номер телефона, конкретную фразу, адреса и тд.\n",
    "\n",
    "<img src=\"https://imgs.xkcd.com/comics/regular_expressions.png\">"
   ]
  },
  {
   "cell_type": "markdown",
   "metadata": {
    "colab_type": "text",
    "id": "HJoXkRLhKEvv"
   },
   "source": [
    "регулярные выражения можно использовать не только в питоне! Можно везде, где поддерживается их синтаксис<br>\n",
    "- терминал (командная строка, смотрите команду [grep для Unix*](https://www.cyberciti.biz/faq/howto-use-grep-command-in-linux-unix/) и [для Windows](https://www.shellhacks.com/windows-grep-equivalent-cmd-powershell/))\n",
    "- Excel/[Google Sheets]((https://www.distilled.net/how-to-use-regex-in-google-sheets/))\n",
    "- текстовые редакторы ([Sublime Text](http://webcache.googleusercontent.com/search?q=cache:http://docs.sublimetext.info/en/latest/search_and_replace/search_and_replace_overview.html), Notepad++ и тд)"
   ]
  },
  {
   "cell_type": "markdown",
   "metadata": {
    "colab_type": "text",
    "id": "BACXu7q0KEnE"
   },
   "source": [
    "**онлайн-способы проверить регулярки:**\n",
    "\n",
    "- [1](https://regexr.com/)\n",
    "\n",
    "- [2](https://www.debuggex.com/) (не забудьте выбрать Python в выпадающем окне!)\n",
    "\n",
    "- [3](https://regex101.com/r/F8dY80/3)"
   ]
  },
  {
   "cell_type": "markdown",
   "metadata": {
    "colab_type": "text",
    "id": "INpFaKXMyL61"
   },
   "source": [
    "подсказки по синтаксису регулярных выражений:\n",
    "\n"
   ]
  },
  {
   "cell_type": "markdown",
   "metadata": {
    "colab_type": "text",
    "id": "pDFe64llXr2j"
   },
   "source": [
    "<table width=\"100%\"><tbody><tr><th style=\"text-align: center;\" width=\"90\"><strong>Оператор</strong></th><th style=\"text-align: center;\" width=\"680\"><strong>Описание</strong></th></tr><tr><td width=\"90\"><tt>.</tt></td><td width=\"680\">Один любой символ, кроме новой строки <tt>\\n</tt>.</td></tr><tr><td width=\"90\"><tt>?</tt></td><td width=\"680\">0 или 1 вхождение шаблона слева</td></tr><tr><td width=\"90\"><tt>+</tt></td><td width=\"680\">1 и более вхождений шаблона слева</td></tr><tr><td width=\"90\"><tt>*</tt></td><td width=\"680\">0 и более вхождений шаблона слева</td></tr><tr><td width=\"90\"><tt>\\w</tt></td><td width=\"680\">Любая цифра или буква (<tt>\\W</tt> —&nbsp;все, кроме буквы или цифры)</td></tr><tr><td width=\"90\"><tt>\\d</tt></td><td width=\"680\">Любая цифра [0-9] (<tt>\\D</tt> —&nbsp;все, кроме цифры)</td></tr><tr><td width=\"90\"><tt>\\s</tt></td><td width=\"680\">Любой пробельный символ (<tt>\\S</tt> —&nbsp;любой непробельный символ)</td></tr><tr><td width=\"90\"><tt>\\b</tt></td><td width=\"680\">Граница слова</td></tr><tr><td width=\"90\"><tt>[..]</tt></td><td width=\"680\">Один из символов в скобках (<tt>[^..]</tt> —&nbsp;любой символ, кроме тех, что в скобках)</td></tr><tr><td width=\"90\"><tt>\\</tt></td><td width=\"680\">Экранирование специальных символов (<tt>\\.</tt> означает точку или <tt>\\+</tt> —&nbsp;знак «плюс»)</td></tr><tr><td width=\"90\"><tt>^</tt> и <tt>$</tt></td><td width=\"680\">Начало и конец строки соответственно</td></tr><tr><td width=\"90\"><tt>{n,m}</tt></td><td width=\"680\">От <tt>n</tt> до <tt>m</tt> вхождений (<tt>{,m}</tt> —&nbsp;от 0 до <tt>m</tt>)</td></tr><tr><td width=\"90\"><tt>a|b</tt></td><td width=\"680\">Соответствует <tt>a</tt> или <tt>b</tt></td></tr><tr><td width=\"90\"><tt>()</tt></td><td width=\"680\">Группирует выражение и возвращает найденный текст</td></tr><tr><td width=\"90\"><tt>\\t</tt>, <tt>\\n</tt>, <tt>\\r</tt></td><td width=\"680\">Символ табуляции, новой строки и возврата каретки соответственно</td></tr></tbody></table>\n",
    "\n",
    "\n",
    "[здесь](https://www.rexegg.com/regex-quickstart.html) развернутая таблица синтаксиса"
   ]
  },
  {
   "cell_type": "markdown",
   "metadata": {
    "colab_type": "text",
    "id": "4prv6TmgpU3n"
   },
   "source": [
    "## Регулярные выражения в питоне"
   ]
  },
  {
   "cell_type": "markdown",
   "metadata": {
    "colab_type": "text",
    "id": "Fl18DOLrKEpC"
   },
   "source": [
    "чтобы начать работать с регулярными выражениями в питоне, нам нужно импортировать модуль ``re``\n",
    "\n",
    "    import re\n",
    "\n",
    "* здесь [ссылка](https://docs.python.org/3/library/re.html) на его документацию и [ссылка на тьюториал](https://docs.python.org/3/howto/regex.html#regex-howto) \n",
    "\n",
    "а так выглядят основные функции модуля re \n",
    "\n",
    "<div class=\"table\"><table>\n",
    "<thead>\n",
    "<tr>\n",
    "<th>Функция</th>\n",
    "<th>Что делает</th>\n",
    "</tr>\n",
    "</thead>\n",
    "<tbody>\n",
    "<tr>\n",
    "<td><code>re.match(pattern, string)</code></td>\n",
    "<td>Найти по заданному шаблону <code>pattern</code> первое совпадение в начале строки<code>string</code></td>\n",
    "</tr>\n",
    "<tr>\n",
    "<td><code>re.search(pattern, string)</code></td>\n",
    "<td>Найти в строке <code>string</code> первую строчку, подходящую под шаблон <code>pattern</code> <br>ищет по всей строке, но возвращает только первое найденное совпадение</br></td>\n",
    "</tr>\n",
    "<tr>\n",
    "<td><code>re.fullmatch(pattern, string)</code></td>\n",
    "<td>Проверить, подходит ли строка <code>string</code> под шаблон <code>pattern</code></td>\n",
    "</tr>\n",
    "<tr>\n",
    "<td><code>re.split(pattern, string, maxsplit=0)</code></td>\n",
    "<td>Аналог <code>str.split()</code>, только разделение происходит по подстрокам, подходящим под шаблон <code>pattern</code></td>\n",
    "</tr>\n",
    "<tr>\n",
    "<td><code>re.findall(pattern, string)</code></td>\n",
    "<td>Найти в строке <code>string</code> все непересекающиеся шаблоны <code>pattern</code></td>\n",
    "</tr>\n",
    "<tr>\n",
    "<td><code>re.sub(pattern, replace, string)</code></td>\n",
    "<td>Заменить в строке <code>string</code> все непересекающиеся шаблоны <code>pattern</code> на <code>replace</code></td>\n",
    "</tr>\n",
    "</tbody>\n",
    "</table></div>\n",
    "\n",
    "\n",
    "Давайте попробуем!"
   ]
  },
  {
   "cell_type": "code",
   "execution_count": 1,
   "metadata": {
    "colab": {},
    "colab_type": "code",
    "id": "UUklQAWjxxhN"
   },
   "outputs": [],
   "source": [
    "import re"
   ]
  },
  {
   "cell_type": "markdown",
   "metadata": {
    "colab_type": "text",
    "id": "GJtLYetTJSW3"
   },
   "source": [
    "**re.match(pattern, string)**\n",
    "\n",
    "метод ищет подстроку по заданному шаблону в начале строки "
   ]
  },
  {
   "cell_type": "code",
   "execution_count": 20,
   "metadata": {
    "colab": {
     "base_uri": "https://localhost:8080/",
     "height": 34
    },
    "colab_type": "code",
    "id": "M-mkKdmyJLWR",
    "outputId": "8db70fa9-bcc8-4379-f9c1-0a09d10b9bb4"
   },
   "outputs": [
    {
     "name": "stdout",
     "output_type": "stream",
     "text": [
      "<re.Match object; span=(0, 5), match='Hello'>\n"
     ]
    }
   ],
   "source": [
    "result = re.match(r'Hello', 'Hello my dear friend Amy')\n",
    "# («r» перед строкой шаблона показывает, что это «сырая» строка в Python)\n",
    "\n",
    "print (result)\n",
    "# попробуйте найти hello вместо Hello"
   ]
  },
  {
   "cell_type": "markdown",
   "metadata": {
    "colab_type": "text",
    "id": "RSyQ68BZKjyu"
   },
   "source": [
    "Строка найдена, но не показывается \"понятно\". По умолчанию, print покажет не только саму подстроку, но и мета-данные.\n",
    "\n",
    "Чтобы вывести содержимое, используем метод ```.group()``` Он показывает вхождения искомого паттерна"
   ]
  },
  {
   "cell_type": "code",
   "execution_count": 24,
   "metadata": {
    "colab": {
     "base_uri": "https://localhost:8080/",
     "height": 34
    },
    "colab_type": "code",
    "id": "XwSoK-3wK4Rb",
    "outputId": "003ad842-43e3-42b1-d62f-f612e33b0a4e"
   },
   "outputs": [
    {
     "name": "stdout",
     "output_type": "stream",
     "text": [
      "Hello\n"
     ]
    }
   ],
   "source": [
    "print (result.group())"
   ]
  },
  {
   "cell_type": "markdown",
   "metadata": {
    "colab_type": "text",
    "id": "0T_q0k3oOY4f"
   },
   "source": [
    "**re.search(pattern, string)**\n",
    "\n",
    "метод похож на match(), но ищет паттерн по всей длине строки"
   ]
  },
  {
   "cell_type": "code",
   "execution_count": 28,
   "metadata": {
    "colab": {
     "base_uri": "https://localhost:8080/",
     "height": 34
    },
    "colab_type": "code",
    "id": "ZgPVsxO-Nysf",
    "outputId": "13ecdfb5-6a8c-4f66-c497-806818dc42eb"
   },
   "outputs": [
    {
     "name": "stdout",
     "output_type": "stream",
     "text": [
      "my\n"
     ]
    }
   ],
   "source": [
    "result = re.search(r'my', 'Hello my dear friend Amy')\n",
    "print (result.group())"
   ]
  },
  {
   "cell_type": "markdown",
   "metadata": {
    "colab_type": "text",
    "id": "fq8kKTH4SswS"
   },
   "source": [
    "**re.fullmatch(pattern, string)**\n",
    "\n",
    "проверяет, является ли паттерн полным совпадением со строкой"
   ]
  },
  {
   "cell_type": "code",
   "execution_count": 29,
   "metadata": {
    "colab": {
     "base_uri": "https://localhost:8080/",
     "height": 68
    },
    "colab_type": "code",
    "id": "8I0s5_ieRq4b",
    "outputId": "6306be70-98f5-4dc3-cd42-5100cf830c93"
   },
   "outputs": [
    {
     "name": "stdout",
     "output_type": "stream",
     "text": [
      "<re.Match object; span=(0, 24), match='Hello my dear friend Amy'>\n",
      "\n",
      " Hello my dear friend Amy\n"
     ]
    }
   ],
   "source": [
    "result = re.fullmatch(r'Hello my dear friend Amy', 'Hello my dear friend Amy')\n",
    "print (result)\n",
    "print (\"\\n\",result.group())\n"
   ]
  },
  {
   "cell_type": "markdown",
   "metadata": {
    "colab_type": "text",
    "id": "LdVX17AJTA0Y"
   },
   "source": [
    "**re.split(pattern, string, maxsplit=0)**\n",
    "\n",
    "метод разделяет строку по заданному шаблону"
   ]
  },
  {
   "cell_type": "code",
   "execution_count": 30,
   "metadata": {
    "colab": {
     "base_uri": "https://localhost:8080/",
     "height": 34
    },
    "colab_type": "code",
    "id": "tByLaitkTJI8",
    "outputId": "7b1e1c9e-5846-495f-ad25-48b453d65ea7"
   },
   "outputs": [
    {
     "name": "stdout",
     "output_type": "stream",
     "text": [
      "['H', 'llo my d', 'ar fri', 'nd Amy']\n"
     ]
    }
   ],
   "source": [
    "result = re.split(r'e','Hello my dear friend Amy')\n",
    "print (result)"
   ]
  },
  {
   "cell_type": "markdown",
   "metadata": {
    "colab_type": "text",
    "id": "QDGPsfqpW0j4"
   },
   "source": [
    "* maxsplit= - опциональный аргумент. \n",
    "* Если его указать, то разделение будет произведено не более указанного количества раз"
   ]
  },
  {
   "cell_type": "code",
   "execution_count": 32,
   "metadata": {
    "colab": {
     "base_uri": "https://localhost:8080/",
     "height": 34
    },
    "colab_type": "code",
    "id": "PVqvdKnkXNMj",
    "outputId": "89793d6d-0903-409a-89e1-dd0b1f4a648c"
   },
   "outputs": [
    {
     "name": "stdout",
     "output_type": "stream",
     "text": [
      "['H', 'llo my d', 'ar fri', 'nd Amy']\n"
     ]
    }
   ],
   "source": [
    "result = re.split(r'e', 'Hello my dear friend Amy',maxsplit=3)\n",
    "print (result)"
   ]
  },
  {
   "cell_type": "markdown",
   "metadata": {
    "colab_type": "text",
    "id": "QVbO7LXqQpVs"
   },
   "source": [
    "**re.findall(pattern, string)**\n",
    "\n",
    "возвращает список всех найденных совпадений"
   ]
  },
  {
   "cell_type": "code",
   "execution_count": 36,
   "metadata": {
    "colab": {
     "base_uri": "https://localhost:8080/",
     "height": 34
    },
    "colab_type": "code",
    "id": "1l3YV7RDQvuK",
    "outputId": "5da50ae8-edc1-4c45-c0f3-aa5ce6da8946"
   },
   "outputs": [
    {
     "name": "stdout",
     "output_type": "stream",
     "text": [
      "['o']\n"
     ]
    }
   ],
   "source": [
    "result = re.findall(r'o', 'Hello my dear friend Amy')\n",
    "print (result) # обратите внимание, здесь мы не используем .group()\n",
    "\n",
    "# попробуйте с буквой e  или r"
   ]
  },
  {
   "cell_type": "markdown",
   "metadata": {
    "colab_type": "text",
    "id": "FBVElU_FT8Hl"
   },
   "source": [
    "**re.sub(pattern, repl, string)**\n",
    "\n",
    "метод ищет шаблон в строке и заменяет его на указанную подстроку.\n",
    "\n",
    "Если шаблон не найден, строка остается неизменной."
   ]
  },
  {
   "cell_type": "code",
   "execution_count": 37,
   "metadata": {
    "colab": {
     "base_uri": "https://localhost:8080/",
     "height": 34
    },
    "colab_type": "code",
    "id": "kWAvfu_PT2ok",
    "outputId": "92f917e0-2b40-48cf-901e-ef7c2358ca82"
   },
   "outputs": [
    {
     "name": "stdout",
     "output_type": "stream",
     "text": [
      "Hello my dear friend Jack\n"
     ]
    }
   ],
   "source": [
    "text = 'Hello my dear friend Amy'\n",
    "result = re.sub(r'Amy','Jack', text ) \n",
    "# третьим аргументом может быть не только строка сама по себе, но и переменная, в которую сохранена строка\n",
    "\n",
    "print (result)"
   ]
  },
  {
   "cell_type": "markdown",
   "metadata": {
    "colab_type": "text",
    "id": "RKUVRQWKKEZ1"
   },
   "source": [
    "## classwork"
   ]
  },
  {
   "cell_type": "markdown",
   "metadata": {
    "colab_type": "text",
    "id": "iAU3H093Zl-M"
   },
   "source": [
    "1. (```re.findall```) Напишите регулярное выражение, которое вытаскивало бы все адреса из документа **addresses.txt**\n",
    "\n",
    "\n",
    "2. (```re.findall```+ работа с файлами) Детектим прямую речь в тексте. В файле **d_speech.txt** лежит текст, в котором есть строки с прямой речью. Напишите регулярное выражение, которое вытащит все строки с прямой речью.\n",
    "\n",
    "3. (```re.sub```) Из текта в файле \"морж-корж.txt\" возьмите текст и замените все вхождения слова \"морж\" на слово \"корж\""
   ]
  },
  {
   "cell_type": "code",
   "execution_count": null,
   "metadata": {},
   "outputs": [],
   "source": []
  }
 ],
 "metadata": {
  "colab": {
   "collapsed_sections": [],
   "include_colab_link": true,
   "name": "13Nov2019.ipynb",
   "provenance": []
  },
  "kernelspec": {
   "display_name": "Python 3",
   "language": "python",
   "name": "python3"
  },
  "language_info": {
   "codemirror_mode": {
    "name": "ipython",
    "version": 3
   },
   "file_extension": ".py",
   "mimetype": "text/x-python",
   "name": "python",
   "nbconvert_exporter": "python",
   "pygments_lexer": "ipython3",
   "version": "3.8.3"
  }
 },
 "nbformat": 4,
 "nbformat_minor": 1
}
